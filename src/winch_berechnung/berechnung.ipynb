{
 "cells": [
  {
   "cell_type": "markdown",
   "id": "1420e665-da47-4a37-b73d-d5d1293ca266",
   "metadata": {},
   "source": [
    "# Winch Berechnungen\n",
    "\n"
   ]
  },
  {
   "cell_type": "markdown",
   "id": "e33b822c-b74d-487e-b0da-468ec57c84f1",
   "metadata": {},
   "source": [
    "## File einlesen"
   ]
  },
  {
   "cell_type": "markdown",
   "id": "bc48e481-5b2f-42be-8e11-38fc84ce5221",
   "metadata": {},
   "source": [
    "## Variabeln"
   ]
  },
  {
   "cell_type": "code",
   "execution_count": null,
   "id": "161ee9cb-c8a8-4d08-8ee3-5f483d4ca213",
   "metadata": {},
   "outputs": [],
   "source": []
  }
 ],
 "metadata": {
  "kernelspec": {
   "display_name": "Python 3 (ipykernel)",
   "language": "python",
   "name": "python3"
  },
  "language_info": {
   "codemirror_mode": {
    "name": "ipython",
    "version": 3
   },
   "file_extension": ".py",
   "mimetype": "text/x-python",
   "name": "python",
   "nbconvert_exporter": "python",
   "pygments_lexer": "ipython3",
   "version": "3.12.3"
  }
 },
 "nbformat": 4,
 "nbformat_minor": 5
}
